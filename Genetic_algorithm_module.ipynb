{
  "nbformat": 4,
  "nbformat_minor": 0,
  "metadata": {
    "colab": {
      "name": "Genetic algorithm module.ipynb",
      "provenance": [],
      "authorship_tag": "ABX9TyOZH7TLcd6R7dQ2+dWq1skS",
      "include_colab_link": true
    },
    "kernelspec": {
      "name": "python3",
      "display_name": "Python 3"
    }
  },
  "cells": [
    {
      "cell_type": "markdown",
      "metadata": {
        "id": "view-in-github",
        "colab_type": "text"
      },
      "source": [
        "<a href=\"https://colab.research.google.com/github/dipayandas97/Spiking-Neural-Network/blob/master/Genetic_algorithm_module.ipynb\" target=\"_parent\"><img src=\"https://colab.research.google.com/assets/colab-badge.svg\" alt=\"Open In Colab\"/></a>"
      ]
    },
    {
      "cell_type": "code",
      "metadata": {
        "id": "D5cHNSdPtKhY",
        "colab_type": "code",
        "colab": {}
      },
      "source": [
        "import numpy as np\n",
        "\n",
        "class GA:\n",
        "    def __init__(self):\n",
        "        pass\n",
        "\n",
        "    def matrix_to_vector(self, matrices): #returns list(matrix) of vectors for list(matrix) of 3D matrices\n",
        "        if len(matrices.shape) != 4:\n",
        "            raise Exception('Input should be 4D matrices (array of 3D matrices)')\n",
        "        vectors = [m.flatten() for m in matrices]\n",
        "        return np.asarray(vectors)\n",
        "\n",
        "    def vector_to_matrix(self, vectors, matrices):\n",
        "        if len(matrices.shape) != 4:\n",
        "            raise Exception('Input matrix should be 4D matrices (array of 3D matrices)')\n",
        "        new_matrices = [v.reshape(matrices.shape[1], matrices.shape[2], matrices.shape[3]) for v in vectors]\n",
        "        return np.asarray(new_matrices)\n",
        "\n",
        "    def select_mating_pool(self, population, fitness, num_parents): \n",
        "        parents = np.zeros((num_parents, population.shape[1]))\n",
        "        for idx in range(num_parents):\n",
        "            max_id = np.where(fitness==np.max(fitness))[0][0]\n",
        "            parents[idx,:] = population[max_id,:]\n",
        "            fitness[max_id] = -9999999\n",
        "        return parents\n",
        "\n",
        "    def crossover(self, parents, num_offsprings):\n",
        "        offsprings = np.zeros((num_offsprings, parents.shape[1]))\n",
        "        crossover_point = np.uint32(parents.shape[1]/2)\n",
        "        for k in range(num_offsprings):\n",
        "            parent_1 = k % parents.shape[0]\n",
        "            parent_2 = (k+1) % parents.shape[0]\n",
        "            offsprings[k, :crossover_point] = parents[parent_1, :crossover_point]\n",
        "            offsprings[k, crossover_point:] = parents[parent_2, crossover_point:]\n",
        "        return offsprings\n",
        "\n",
        "    def mutate(self, offsprings, mutation_percent):\n",
        "        num_of_cells_to_mutate = np.uint32((mutation_percent/100) * offsprings.shape[1])\n",
        "        for idx in range(offsprings.shape[0]):\n",
        "            mutation_indices = np.random.randint(0, offsprings.shape[1], num_of_cells_to_mutate)\n",
        "            random_val = np.random.uniform(-1.0,1.0,1)\n",
        "            offsprings[idx, mutation_indices] += random_val\n",
        "        return offsprings"
      ],
      "execution_count": 0,
      "outputs": []
    },
    {
      "cell_type": "code",
      "metadata": {
        "id": "bG7FUf5vucb5",
        "colab_type": "code",
        "colab": {}
      },
      "source": [
        "g = GA()"
      ],
      "execution_count": 0,
      "outputs": []
    },
    {
      "cell_type": "code",
      "metadata": {
        "id": "cQYV_34ywsyc",
        "colab_type": "code",
        "colab": {}
      },
      "source": [
        "m = np.random.randint(1,10,size=(10,3,3,2))"
      ],
      "execution_count": 0,
      "outputs": []
    },
    {
      "cell_type": "code",
      "metadata": {
        "id": "qGTtXWTy6ZLP",
        "colab_type": "code",
        "colab": {
          "base_uri": "https://localhost:8080/",
          "height": 191
        },
        "outputId": "3e9d0cfe-4f11-48ef-fe1d-728b03f48972"
      },
      "source": [
        "#n = m.reshape(1, m.shape[0], m.shape[1], m.shape[2])\n",
        "v = g.matrix_to_vector(m)\n",
        "v"
      ],
      "execution_count": 203,
      "outputs": [
        {
          "output_type": "execute_result",
          "data": {
            "text/plain": [
              "array([[8, 7, 9, 1, 9, 2, 9, 3, 3, 1, 8, 8, 1, 1, 9, 8, 1, 5],\n",
              "       [8, 8, 9, 3, 1, 2, 3, 4, 3, 3, 7, 4, 2, 9, 1, 6, 9, 1],\n",
              "       [4, 1, 1, 6, 4, 9, 7, 3, 1, 8, 7, 7, 6, 6, 4, 1, 2, 4],\n",
              "       [5, 1, 1, 6, 4, 1, 8, 6, 6, 3, 4, 7, 4, 1, 1, 2, 4, 6],\n",
              "       [5, 6, 3, 8, 5, 8, 1, 5, 8, 5, 8, 8, 6, 4, 3, 9, 2, 7],\n",
              "       [4, 8, 4, 2, 3, 2, 2, 6, 9, 3, 2, 4, 8, 8, 7, 2, 8, 4],\n",
              "       [9, 2, 8, 3, 5, 4, 2, 4, 1, 3, 2, 9, 8, 9, 7, 6, 6, 7],\n",
              "       [1, 7, 6, 2, 8, 3, 8, 1, 8, 8, 7, 9, 4, 8, 5, 3, 8, 8],\n",
              "       [6, 3, 9, 7, 6, 6, 5, 2, 7, 5, 7, 4, 8, 4, 8, 6, 8, 5],\n",
              "       [7, 2, 1, 8, 1, 8, 1, 3, 7, 8, 8, 7, 5, 8, 5, 9, 6, 1]])"
            ]
          },
          "metadata": {
            "tags": []
          },
          "execution_count": 203
        }
      ]
    },
    {
      "cell_type": "code",
      "metadata": {
        "id": "rX3aGtVu6a95",
        "colab_type": "code",
        "colab": {
          "base_uri": "https://localhost:8080/",
          "height": 1000
        },
        "outputId": "ed2fd15b-45ed-47f4-ea5d-bdd8518e9dc6"
      },
      "source": [
        "g.vector_to_matrix(v, m)"
      ],
      "execution_count": 204,
      "outputs": [
        {
          "output_type": "execute_result",
          "data": {
            "text/plain": [
              "array([[[[8, 7],\n",
              "         [9, 1],\n",
              "         [9, 2]],\n",
              "\n",
              "        [[9, 3],\n",
              "         [3, 1],\n",
              "         [8, 8]],\n",
              "\n",
              "        [[1, 1],\n",
              "         [9, 8],\n",
              "         [1, 5]]],\n",
              "\n",
              "\n",
              "       [[[8, 8],\n",
              "         [9, 3],\n",
              "         [1, 2]],\n",
              "\n",
              "        [[3, 4],\n",
              "         [3, 3],\n",
              "         [7, 4]],\n",
              "\n",
              "        [[2, 9],\n",
              "         [1, 6],\n",
              "         [9, 1]]],\n",
              "\n",
              "\n",
              "       [[[4, 1],\n",
              "         [1, 6],\n",
              "         [4, 9]],\n",
              "\n",
              "        [[7, 3],\n",
              "         [1, 8],\n",
              "         [7, 7]],\n",
              "\n",
              "        [[6, 6],\n",
              "         [4, 1],\n",
              "         [2, 4]]],\n",
              "\n",
              "\n",
              "       [[[5, 1],\n",
              "         [1, 6],\n",
              "         [4, 1]],\n",
              "\n",
              "        [[8, 6],\n",
              "         [6, 3],\n",
              "         [4, 7]],\n",
              "\n",
              "        [[4, 1],\n",
              "         [1, 2],\n",
              "         [4, 6]]],\n",
              "\n",
              "\n",
              "       [[[5, 6],\n",
              "         [3, 8],\n",
              "         [5, 8]],\n",
              "\n",
              "        [[1, 5],\n",
              "         [8, 5],\n",
              "         [8, 8]],\n",
              "\n",
              "        [[6, 4],\n",
              "         [3, 9],\n",
              "         [2, 7]]],\n",
              "\n",
              "\n",
              "       [[[4, 8],\n",
              "         [4, 2],\n",
              "         [3, 2]],\n",
              "\n",
              "        [[2, 6],\n",
              "         [9, 3],\n",
              "         [2, 4]],\n",
              "\n",
              "        [[8, 8],\n",
              "         [7, 2],\n",
              "         [8, 4]]],\n",
              "\n",
              "\n",
              "       [[[9, 2],\n",
              "         [8, 3],\n",
              "         [5, 4]],\n",
              "\n",
              "        [[2, 4],\n",
              "         [1, 3],\n",
              "         [2, 9]],\n",
              "\n",
              "        [[8, 9],\n",
              "         [7, 6],\n",
              "         [6, 7]]],\n",
              "\n",
              "\n",
              "       [[[1, 7],\n",
              "         [6, 2],\n",
              "         [8, 3]],\n",
              "\n",
              "        [[8, 1],\n",
              "         [8, 8],\n",
              "         [7, 9]],\n",
              "\n",
              "        [[4, 8],\n",
              "         [5, 3],\n",
              "         [8, 8]]],\n",
              "\n",
              "\n",
              "       [[[6, 3],\n",
              "         [9, 7],\n",
              "         [6, 6]],\n",
              "\n",
              "        [[5, 2],\n",
              "         [7, 5],\n",
              "         [7, 4]],\n",
              "\n",
              "        [[8, 4],\n",
              "         [8, 6],\n",
              "         [8, 5]]],\n",
              "\n",
              "\n",
              "       [[[7, 2],\n",
              "         [1, 8],\n",
              "         [1, 8]],\n",
              "\n",
              "        [[1, 3],\n",
              "         [7, 8],\n",
              "         [8, 7]],\n",
              "\n",
              "        [[5, 8],\n",
              "         [5, 9],\n",
              "         [6, 1]]]])"
            ]
          },
          "metadata": {
            "tags": []
          },
          "execution_count": 204
        }
      ]
    },
    {
      "cell_type": "code",
      "metadata": {
        "id": "woM5zha27_H-",
        "colab_type": "code",
        "colab": {
          "base_uri": "https://localhost:8080/",
          "height": 121
        },
        "outputId": "641f31bc-4ad2-4181-8ddc-d0440c3e5362"
      },
      "source": [
        "fitness = np.random.randint(0,100, len(v))\n",
        "parents = g.select_mating_pool(v, fitness, 3)\n",
        "parents"
      ],
      "execution_count": 205,
      "outputs": [
        {
          "output_type": "execute_result",
          "data": {
            "text/plain": [
              "array([[1., 7., 6., 2., 8., 3., 8., 1., 8., 8., 7., 9., 4., 8., 5., 3.,\n",
              "        8., 8.],\n",
              "       [8., 7., 9., 1., 9., 2., 9., 3., 3., 1., 8., 8., 1., 1., 9., 8.,\n",
              "        1., 5.],\n",
              "       [7., 2., 1., 8., 1., 8., 1., 3., 7., 8., 8., 7., 5., 8., 5., 9.,\n",
              "        6., 1.]])"
            ]
          },
          "metadata": {
            "tags": []
          },
          "execution_count": 205
        }
      ]
    },
    {
      "cell_type": "code",
      "metadata": {
        "id": "o2XaKQNf9cTh",
        "colab_type": "code",
        "outputId": "bdbf8730-91a6-4c42-a70e-edeb5eed8882",
        "colab": {
          "base_uri": "https://localhost:8080/",
          "height": 191
        }
      },
      "source": [
        "offsprings = g.crossover(parents, 5)\n",
        "offsprings"
      ],
      "execution_count": 211,
      "outputs": [
        {
          "output_type": "execute_result",
          "data": {
            "text/plain": [
              "array([[1., 7., 6., 2., 8., 3., 8., 1., 8., 1., 8., 8., 1., 1., 9., 8.,\n",
              "        1., 5.],\n",
              "       [8., 7., 9., 1., 9., 2., 9., 3., 3., 8., 8., 7., 5., 8., 5., 9.,\n",
              "        6., 1.],\n",
              "       [7., 2., 1., 8., 1., 8., 1., 3., 7., 8., 7., 9., 4., 8., 5., 3.,\n",
              "        8., 8.],\n",
              "       [1., 7., 6., 2., 8., 3., 8., 1., 8., 1., 8., 8., 1., 1., 9., 8.,\n",
              "        1., 5.],\n",
              "       [8., 7., 9., 1., 9., 2., 9., 3., 3., 8., 8., 7., 5., 8., 5., 9.,\n",
              "        6., 1.]])"
            ]
          },
          "metadata": {
            "tags": []
          },
          "execution_count": 211
        }
      ]
    },
    {
      "cell_type": "code",
      "metadata": {
        "id": "72MgzFASB6Kf",
        "colab_type": "code",
        "colab": {
          "base_uri": "https://localhost:8080/",
          "height": 364
        },
        "outputId": "16734c30-89b0-4415-e533-f4b8865af9c7"
      },
      "source": [
        "g.mutate(offsprings, 20)"
      ],
      "execution_count": 212,
      "outputs": [
        {
          "output_type": "execute_result",
          "data": {
            "text/plain": [
              "array([[1.73371777, 7.        , 6.        , 2.        , 8.        ,\n",
              "        3.        , 8.        , 1.        , 8.73371777, 1.        ,\n",
              "        8.        , 8.73371777, 1.        , 1.        , 9.        ,\n",
              "        8.        , 1.        , 5.        ],\n",
              "       [8.        , 7.        , 8.4293036 , 1.        , 9.        ,\n",
              "        2.        , 9.        , 2.4293036 , 3.        , 8.        ,\n",
              "        8.        , 7.        , 5.        , 8.        , 5.        ,\n",
              "        9.        , 6.        , 0.4293036 ],\n",
              "       [7.        , 1.71041719, 1.        , 8.        , 1.        ,\n",
              "        8.        , 0.71041719, 3.        , 7.        , 8.        ,\n",
              "        7.        , 9.        , 4.        , 8.        , 5.        ,\n",
              "        3.        , 7.71041719, 8.        ],\n",
              "       [1.        , 7.        , 6.        , 1.08889058, 7.08889058,\n",
              "        3.        , 8.        , 1.        , 8.        , 0.08889058,\n",
              "        8.        , 8.        , 1.        , 1.        , 9.        ,\n",
              "        8.        , 1.        , 5.        ],\n",
              "       [8.        , 7.        , 9.        , 1.        , 9.        ,\n",
              "        2.        , 9.        , 3.        , 3.        , 8.7517368 ,\n",
              "        8.        , 7.        , 5.        , 8.        , 5.7517368 ,\n",
              "        9.        , 6.7517368 , 1.        ]])"
            ]
          },
          "metadata": {
            "tags": []
          },
          "execution_count": 212
        }
      ]
    }
  ]
}