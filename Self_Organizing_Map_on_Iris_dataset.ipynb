{
  "nbformat": 4,
  "nbformat_minor": 0,
  "metadata": {
    "colab": {
      "name": "SOM_iris_dataset.ipynb",
      "provenance": [],
      "collapsed_sections": [],
      "authorship_tag": "ABX9TyMlkV1mK6q94TvjBUjoGHhQ",
      "include_colab_link": true
    },
    "kernelspec": {
      "name": "python3",
      "display_name": "Python 3"
    },
    "accelerator": "GPU"
  },
  "cells": [
    {
      "cell_type": "markdown",
      "metadata": {
        "id": "view-in-github",
        "colab_type": "text"
      },
      "source": [
        "<a href=\"https://colab.research.google.com/github/dipayandas97/Spiking-Neural-Network/blob/master/Self_Organizing_Map_on_Iris_dataset.ipynb\" target=\"_parent\"><img src=\"https://colab.research.google.com/assets/colab-badge.svg\" alt=\"Open In Colab\"/></a>"
      ]
    },
    {
      "cell_type": "code",
      "metadata": {
        "id": "EWN_vjMkG6ld",
        "colab_type": "code",
        "outputId": "0e9d0da7-6abd-48b2-c155-e14092f84998",
        "colab": {
          "base_uri": "https://localhost:8080/",
          "height": 34
        }
      },
      "source": [
        "from sklearn.datasets import load_iris\n",
        "import numpy as np\n",
        "\n",
        "iris_dataset = load_iris()\n",
        "X = iris_dataset.data[:, :4] \n",
        "labels = iris_dataset.target\n",
        "print(X.shape, labels.shape)"
      ],
      "execution_count": 0,
      "outputs": [
        {
          "output_type": "stream",
          "text": [
            "(150, 4) (150,)\n"
          ],
          "name": "stdout"
        }
      ]
    },
    {
      "cell_type": "code",
      "metadata": {
        "id": "YP6wH-72HTTS",
        "colab_type": "code",
        "colab": {}
      },
      "source": [
        "A, B, m = 30,30,4 #input shape = (mx1), here (4x1)\n",
        "SOM = np.random.random_sample(size=(A,B,m))"
      ],
      "execution_count": 0,
      "outputs": []
    },
    {
      "cell_type": "code",
      "metadata": {
        "id": "83yD1o2KLSHJ",
        "colab_type": "code",
        "colab": {}
      },
      "source": [
        "def eucledian_dist(v1, v2):\n",
        "    d = 0\n",
        "    #for 1D vectors only\n",
        "    for i in range(v1.shape[0]):\n",
        "        d += (v1[i] - v2[i]) ** 2\n",
        "    return d"
      ],
      "execution_count": 0,
      "outputs": []
    },
    {
      "cell_type": "code",
      "metadata": {
        "id": "TN0TfnoONbD2",
        "colab_type": "code",
        "colab": {}
      },
      "source": [
        "def manhatten_dist(x1,y1, x2,y2):\n",
        "    del_x = (x1-x2) if x1>x2 else (x2-x1)\n",
        "    del_y = (y1-y2) if y1>y2 else (y2-y1)\n",
        "    \n",
        "    return (del_x + del_y)"
      ],
      "execution_count": 0,
      "outputs": []
    },
    {
      "cell_type": "code",
      "metadata": {
        "id": "xFB_EHh6KXqw",
        "colab_type": "code",
        "colab": {}
      },
      "source": [
        "def closest_node(input_vector, SOM):\n",
        "    min_dist_found = 99999\n",
        "    min_dist_x, min_dist_y = -1,-1\n",
        "\n",
        "    for i in range(SOM.shape[0]):\n",
        "        for j in range(SOM.shape[1]):\n",
        "            d = eucledian_dist(input_vector, SOM[i][j])\n",
        "            if d < min_dist_found:\n",
        "                min_dist_found = d\n",
        "                min_dist_x, min_dist_y = i,j\n",
        "    return min_dist_x, min_dist_y"
      ],
      "execution_count": 0,
      "outputs": []
    },
    {
      "cell_type": "code",
      "metadata": {
        "id": "hhFX3FTfIqOV",
        "colab_type": "code",
        "outputId": "384b11fb-f050-49e3-c8a9-8abeab6b73d7",
        "colab": {
          "base_uri": "https://localhost:8080/",
          "height": 187
        }
      },
      "source": [
        "epochs = 5000\n",
        "LR = 0.5\n",
        "max_dist = (A+B)\n",
        "\n",
        "for t in range(epochs):\n",
        "    if t % (epochs/10)==0: print(t)\n",
        "\n",
        "    part_left = 1 - (t* 1.0 / epochs)\n",
        "    curr_lr = LR * part_left                            #Current LR\n",
        "    curr_max_dist = (int)(max_dist * part_left)         #Current range/radius of neighbourhood\n",
        "\n",
        "    n = np.random.randint(len(X))\n",
        "\n",
        "    bmu_x, bmu_y = closest_node(X[n], SOM)\n",
        "\n",
        "    for i in range(SOM.shape[0]):\n",
        "        for j in range(SOM.shape[1]):\n",
        "            if manhatten_dist(i,j, bmu_x, bmu_y) < curr_max_dist:\n",
        "                SOM[i][j] += curr_lr * (X[n] - SOM[i][j])"
      ],
      "execution_count": 0,
      "outputs": [
        {
          "output_type": "stream",
          "text": [
            "0\n",
            "500\n",
            "1000\n",
            "1500\n",
            "2000\n",
            "2500\n",
            "3000\n",
            "3500\n",
            "4000\n",
            "4500\n"
          ],
          "name": "stdout"
        }
      ]
    },
    {
      "cell_type": "code",
      "metadata": {
        "id": "uwu5o8vqPs66",
        "colab_type": "code",
        "colab": {}
      },
      "source": [
        "u_map = np.empty(shape=(A,B), dtype=np.float)"
      ],
      "execution_count": 0,
      "outputs": []
    },
    {
      "cell_type": "code",
      "metadata": {
        "id": "tNBlgXXIPanv",
        "colab_type": "code",
        "colab": {}
      },
      "source": [
        "for i in range(u_map.shape[0]):\n",
        "    for j in range(u_map.shape[1]):\n",
        "        d = 0\n",
        "        if i-1 >= 0:\n",
        "            d += eucledian_dist(SOM[i][j], SOM[i-1][j])\n",
        "        if i+1 < A:\n",
        "            d += eucledian_dist(SOM[i][j], SOM[i+1][j])\n",
        "        if j-1 >= 0:\n",
        "            d += eucledian_dist(SOM[i][j], SOM[i][j-1])\n",
        "        if j+1 < B:\n",
        "            d += eucledian_dist(SOM[i][j], SOM[i][j+1])\n",
        "\n",
        "        u_map[i][j] = d / 4"
      ],
      "execution_count": 0,
      "outputs": []
    },
    {
      "cell_type": "code",
      "metadata": {
        "id": "YGoyCjj8RV3u",
        "colab_type": "code",
        "outputId": "35c2bf15-d25c-4efc-f18a-7796a85eb8ca",
        "colab": {
          "base_uri": "https://localhost:8080/",
          "height": 283
        }
      },
      "source": [
        "plt.imshow(u_map)"
      ],
      "execution_count": 0,
      "outputs": [
        {
          "output_type": "execute_result",
          "data": {
            "text/plain": [
              "<matplotlib.image.AxesImage at 0x7fe1333f2438>"
            ]
          },
          "metadata": {
            "tags": []
          },
          "execution_count": 149
        },
        {
          "output_type": "display_data",
          "data": {
            "image/png": "[encoded data removed]",
            "text/plain": [
              "<Figure size 432x288 with 1 Axes>"
            ]
          },
          "metadata": {
            "tags": []
          }
        }
      ]
    },
    {
      "cell_type": "code",
      "metadata": {
        "id": "25iCKcUtR6f4",
        "colab_type": "code",
        "colab": {}
      },
      "source": [
        "mapping = np.empty(shape=(A,B), dtype=object)\n",
        "for i in range(mapping.shape[0]):\n",
        "    for j in range(mapping.shape[1]):\n",
        "        mapping[i][j] = []\n",
        "\n",
        "for t in range(len(X)):\n",
        "    x,y = closest_node(X[t], SOM)\n",
        "    mapping[x][y].append(labels[t]+1) #Labels : 1,2,3"
      ],
      "execution_count": 0,
      "outputs": []
    },
    {
      "cell_type": "code",
      "metadata": {
        "id": "cQenLX_MUBwL",
        "colab_type": "code",
        "colab": {}
      },
      "source": [
        "def most_common(ls):\n",
        "    u_elements, u_count = np.unique(np.asarray(ls), return_counts=True)\n",
        "    max_count_pos = np.argmax(u_count, axis=-1)\n",
        "    return u_elements[max_count_pos]"
      ],
      "execution_count": 0,
      "outputs": []
    },
    {
      "cell_type": "code",
      "metadata": {
        "id": "wx20e7zrSs9I",
        "colab_type": "code",
        "colab": {}
      },
      "source": [
        "label_map = np.zeros((A,B)) \n",
        "for i in range(label_map.shape[0]):\n",
        "    for j in range(label_map.shape[1]):\n",
        "        label_map[i][j] = most_common(mapping[i][j]) if mapping[i][j] != [] else 0"
      ],
      "execution_count": 0,
      "outputs": []
    },
    {
      "cell_type": "code",
      "metadata": {
        "id": "pYlQSwwGXQ80",
        "colab_type": "code",
        "outputId": "d18779cf-d2f9-48bc-a04b-784ddc1169f4",
        "colab": {
          "base_uri": "https://localhost:8080/",
          "height": 34
        }
      },
      "source": [
        "np.unique(label_map, return_counts=True)"
      ],
      "execution_count": 0,
      "outputs": [
        {
          "output_type": "execute_result",
          "data": {
            "text/plain": [
              "(array([0., 1., 2., 3.]), array([773,  38,  47,  42]))"
            ]
          },
          "metadata": {
            "tags": []
          },
          "execution_count": 154
        }
      ]
    },
    {
      "cell_type": "code",
      "metadata": {
        "id": "y3SFyJAIUdeQ",
        "colab_type": "code",
        "outputId": "09935430-5a27-474b-a442-4771b1185d9e",
        "colab": {
          "base_uri": "https://localhost:8080/",
          "height": 269
        }
      },
      "source": [
        "plt.imshow(label_map, cmap=plt.cm.get_cmap('terrain_r', 4))\n",
        "plt.colorbar()\n",
        "plt.show()"
      ],
      "execution_count": 0,
      "outputs": [
        {
          "output_type": "display_data",
          "data": {
            "image/png": "[encoded data removed]",
            "text/plain": [
              "<Figure size 432x288 with 2 Axes>"
            ]
          },
          "metadata": {
            "tags": []
          }
        }
      ]
    }
  ]
}